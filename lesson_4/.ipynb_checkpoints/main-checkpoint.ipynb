{
 "cells": [
  {
   "cell_type": "code",
   "execution_count": 1,
   "metadata": {},
   "outputs": [
    {
     "name": "stdout",
     "output_type": "stream",
     "text": [
      "Hello World!\n"
     ]
    }
   ],
   "source": [
    "puts 'Hello World!'\n"
   ]
  },
  {
   "cell_type": "markdown",
   "metadata": {},
   "source": [
    "# [Treinadev's](https://treinadev.com.br/) - Lesson 4\n",
    "\n",
    "## Resources\n",
    "\n",
    "- https://www.youtube.com/watch?v=Jo18pq79rsQ&feature=youtu.be\n",
    "- https://guides.rubyonrails.org/form_helpers.html\n",
    "- https://api.rubyonrails.org/\n",
    "- https://www.thecalculatorsite.com/conversions/fuelconsumption.php\n",
    "- https://devhints.io/capybara\n",
    "\n",
    "\n",
    "- \n",
    "\n",
    "## Q&A\n",
    "\n",
    "Q: Do you, like, really?\n",
    "\n",
    "A: Totally.\n",
    "\n",
    "- Make a guide about implementing bootstrap and customizing your views with css.\n",
    "- Make a guide about implementing edit and destroy actions with tests (model and integration).\n",
    "- Completely incorporate I18n in CarRentalSystem and make a guide about it too.\n",
    "- Refactor your tests to use I18n and L10n instead of raw strings.\n",
    "- Refactor all your views to have a more semantic html (main, section, header, article, etc).\n",
    "- Refactor all your integration tests to use capybara's advanced features when necessary (\n",
    "`expect(page).to have_css('header h1', text: 'Categoria A')`, etc.)\n",
    "- Refactor your delete views and tests to have modals\n",
    "\n",
    "## I18n and L10n Implementation\n",
    "\n",
    "## I18n and L10n Tests\n"
   ]
  },
  {
   "cell_type": "code",
   "execution_count": null,
   "metadata": {},
   "outputs": [],
   "source": []
  }
 ],
 "metadata": {
  "kernelspec": {
   "display_name": "Ruby 2.6.5",
   "language": "ruby",
   "name": "ruby"
  },
  "language_info": {
   "file_extension": ".rb",
   "mimetype": "application/x-ruby",
   "name": "ruby",
   "version": "2.6.5"
  }
 },
 "nbformat": 4,
 "nbformat_minor": 4
}
