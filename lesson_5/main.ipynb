{
 "cells": [
  {
   "cell_type": "code",
   "execution_count": 1,
   "metadata": {},
   "outputs": [
    {
     "name": "stdout",
     "output_type": "stream",
     "text": [
      "Hello World!\n"
     ]
    }
   ],
   "source": [
    "puts 'Hello World!'\n"
   ]
  },
  {
   "cell_type": "markdown",
   "metadata": {},
   "source": [
    "# [Treinadev's](https://treinadev.com.br/) - Lesson 5\n",
    "\n",
    "## Resources\n",
    "\n",
    "- \n",
    "\n",
    "\n",
    "## Q&A\n",
    "\n",
    "Q: Do you, like, really?\n",
    "\n",
    "A: Totally.\n",
    "\n",
    "\n",
    "- [ ]  Add CarModels column to CarCategories view, and a dropbox that lists the car models as <a href=\"car_model_path(car_model)\">Fiat Uno 2010</a>\n",
    "- [ ]  add associated CarModels to show CarCategory\n",
    "- [ ]  Create your own pagination for the index views, with bootstrap  [https://getbootstrap.com/docs/4.0/components/pagination/](https://getbootstrap.com/docs/4.0/components/pagination/)\n",
    "- [ ]  Expand current tests to be more thorough, especially edit tests.\n",
    "\n",
    "## \n"
   ]
  },
  {
   "cell_type": "code",
   "execution_count": null,
   "metadata": {},
   "outputs": [],
   "source": []
  }
 ],
 "metadata": {
  "kernelspec": {
   "display_name": "Ruby 2.6.5",
   "language": "ruby",
   "name": "ruby"
  },
  "language_info": {
   "file_extension": ".rb",
   "mimetype": "application/x-ruby",
   "name": "ruby",
   "version": "2.6.5"
  }
 },
 "nbformat": 4,
 "nbformat_minor": 4
}
