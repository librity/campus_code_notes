{
 "cells": [
  {
   "cell_type": "code",
   "execution_count": 1,
   "metadata": {},
   "outputs": [
    {
     "name": "stdout",
     "output_type": "stream",
     "text": [
      "Hello World!\n"
     ]
    }
   ],
   "source": [
    "puts 'Hello World!'\n"
   ]
  },
  {
   "cell_type": "markdown",
   "metadata": {},
   "source": [
    "# [Treinadev's](https://treinadev.com.br/) - Lesson 3\n",
    "\n",
    "## Resources\n",
    "\n",
    "- https://www.youtube.com/watch?v=GSzQNa29NqY&feature=youtu.be\n",
    "- https://www.youtube.com/watch?v=D3R2MpfZxq0&feature=youtu.be\n",
    "- https://www.youtube.com/watch?v=XdNvYzcYA8s&feature=youtu.be\n",
    "- https://www.ruby-toolbox.com/\n",
    "\n",
    "\n",
    "- https://www.youtube.com/watch?v=YE5oEMuGj5Y&feature=youtu.be\n",
    "- https://www.youtube.com/watch?v=KfR-MfZB2pE&feature=youtu.be\n",
    "- https://www.youtube.com/watch?v=Hkn3VhvU0zA\n",
    "\n",
    "\n",
    "- https://stackoverflow.com/questions/24241893/should-i-use-patch-or-put-in-my-rest-api\n",
    "- https://guides.rubyonrails.org/i18n.html\n",
    "- https://github.com/svenfuchs/rails-i18n/tree/master/rails/locale/\n",
    "- https://github.com/ruby-i18n/i18n\n",
    "- https://www.w3schools.com/TAGS/tag_dl.asp\n",
    "- https://www.youtube.com/watch?v=AQ5iptqQmiM&feature=youtu.be\n",
    "\n",
    "\n",
    "- https://relishapp.com/rspec/rspec-rails/docs\n",
    "- https://semaphoreci.com/community/tutorials/how-to-test-rails-models-with-rspec\n",
    "- https://kolosek.com/rspec-controller-test/\n",
    "- https://github.com/rspec/rspec-rails\n",
    "- https://github.com/teamcapybara/capybara#using-capybara-with-rspec\n",
    "\n",
    "## Q&A\n",
    "\n",
    "Q: What's the difference between the http methods PATCH and PUT?\n",
    "\n",
    "A: Semantically, PATH should be used to update some attributes of a resource,\n",
    "while PUT should be used to entirely replace a resource.\n",
    "\n",
    "Q: Inside `config/routes.rb`, do we need to use `:only` if we're using all 7\n",
    "default actions in the controller?\n",
    "\n",
    "A: Once we're using all of a resource's default routes and CRUD action we no\n",
    "longer need to specify the routes and we can drop `:only`.\n",
    "\n",
    "Q: What's the difference between I18n (Internationalization) and L10n (Localization)?\n",
    "\n",
    "A: I18n deals with language (\"save\", \"guardar\", \"slavar\"), while L10n leads with\n",
    "format (\"$ 1,000.00\", \"R$ 4.000,00\"; \"month/day/year\", \"day/month/year\")\n",
    "\n",
    "Q: What's the difference between `form_tag`, `form_for` and `form_with`?\n",
    "\n",
    "A:\n",
    "\n",
    "1. `form_tag` recieves an http method (defaults to POST) and a path/url;\n",
    "2. `form_for` recieves a model;\n",
    "3. `form_with` recieves can recieve either a path or a model, and has more options;\n",
    " \n",
    "PROTIP 1: It's generally a bad idea to edit `config/application.rb`: custom configurations\n",
    "should be written in `config/initializers` if they're global and in `/config/environments`\n",
    "if they're environmental.\n",
    "\n",
    "PROTIP 2: Ideally, you're controllers, views etc. should never have any hard-coded text.\n",
    "Everything should be done through I18n and L10n, calling the files in `config/locales`.\n",
    "\n",
    "PROTIP 3: we can always get the appropiate \n",
    "[premade localization file](https://github.com/svenfuchs/rails-i18n/tree/master/rails/locale/)\n",
    "and add it to `config/locales`. We then add other messages and content as needed. \n",
    "\n",
    "- Make a guide about implementing bootstrap and customizing your views with css.\n",
    "- Make a guide about implementing edit and destroy actions with tests (model and integration).\n",
    "\n",
    "## Edit, Update and Destroy\n",
    "\n",
    "## Bootstrap\n"
   ]
  },
  {
   "cell_type": "code",
   "execution_count": null,
   "metadata": {},
   "outputs": [],
   "source": []
  }
 ],
 "metadata": {
  "kernelspec": {
   "display_name": "Ruby 2.6.5",
   "language": "ruby",
   "name": "ruby"
  },
  "language_info": {
   "file_extension": ".rb",
   "mimetype": "application/x-ruby",
   "name": "ruby",
   "version": "2.6.5"
  }
 },
 "nbformat": 4,
 "nbformat_minor": 4
}
