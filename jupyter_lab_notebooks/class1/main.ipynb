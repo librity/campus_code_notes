{
 "cells": [
  {
   "cell_type": "code",
   "execution_count": 4,
   "metadata": {},
   "outputs": [
    {
     "name": "stdout",
     "output_type": "stream",
     "text": [
      "Testing 1, 2, 3, Ruby kernel working!\n"
     ]
    }
   ],
   "source": [
    "print \"Testing \"\n",
    "(1..3).each { |num| print \"#{num}, \" };nil\n",
    "puts \"Ruby kernel working!\""
   ]
  },
  {
   "cell_type": "markdown",
   "metadata": {},
   "source": [
    "# First class of [Treinadev](https://treinadev.com.br/)\n",
    "\n",
    "### Resources:\n",
    "- https://rubyonrails.org/\n",
    "- https://guides.rubyonrails.org/\n",
    "- https://github.com/rails/rails\n",
    "- https://stackoverflow.com/questions/tagged/ruby-on-rails\n",
    "- https://www.gurusp.org/\n",
    "- https://trello.com/\n",
    "\n",
    "## Setup\n",
    "\n",
    "1. Install a Ruby Version manager (rbenv or rvm)\n",
    "    - https://github.com/rbenv/rbenv\n",
    "    - https://rvm.io/\n",
    "2. Install Rails\n",
    "\n",
    "```bash\n",
    "$ gem install rails\n",
    "```\n",
    "\n",
    "3. Create a new project\n",
    "\n",
    "```bash\n",
    "$ rails new <project_name>\n",
    "$ cd <project_name>\n",
    "```\n",
    "\n",
    "4. Add capybara and rspec-rails to your Gemfile\n",
    "    - https://rubygems.org/gems/capybara\n",
    "    - https://github.com/rspec/rspec-rails/\n",
    "\n",
    "and install them:\n",
    "\n",
    "```bash\n",
    "$ bundle install\n",
    "$ bundle exec rails generate rspec:install\n",
    "```\n",
    "\n",
    "5. Run rspec\n",
    "\n",
    "```bash\n",
    "$ bundle exec rspec\n",
    "```\n",
    "\n",
    "6. Start your rails development server\n",
    "\n",
    "```bash\n",
    "$ bundle exec rails server\n",
    "```\n",
    "\n",
    "## First feature\n",
    "\n",
    "### Create test\n",
    "\n",
    "1. Create a features/visitor_open_homepage_spec.rb file in your spec directory\n",
    "\n",
    "```bash\n",
    "$ mkdir ./spec/features\n",
    "$ touch ./spec/features/visitor_open_homepage_spec.rb\n",
    "```\n",
    "\n",
    "2. Add the test to the file:\n",
    "\n",
    "![First feature spec](img/first_test.png)"
   ]
  },
  {
   "cell_type": "code",
   "execution_count": null,
   "metadata": {},
   "outputs": [],
   "source": [
    "# frozen_string_literal: true\n",
    "\n",
    "require 'rails_helper'\n",
    "\n",
    "feature 'Visitors should get a home page' do\n",
    "  scenario 'success' do\n",
    "    visit root_path\n",
    "\n",
    "    expect(page).to have_content('Rental Cars')\n",
    "    expect(page).to have_content('Bem vindo ao sistema de gestão de locação')\n",
    "  end\n",
    "end\n"
   ]
  },
  {
   "cell_type": "markdown",
   "metadata": {},
   "source": [
    "3. Run the test (it's gonna fail)\n",
    "\n",
    "```bash\n",
    "$ bundle exec rspec\n",
    "F\n",
    "\n",
    "Failures:\n",
    "\n",
    "  1) Visitors should get a home page success\n",
    "     Failure/Error: visit root_path\n",
    "\n",
    "     AbstractController::ActionNotFound:\n",
    "       The action 'index' could not be found for HomeController\n",
    "     # ./spec/features/visitor_open_homepage_spec.rb:7:in `block (2 levels) in <top (required)>'\n",
    "\n",
    "Finished in 0.06254 seconds (files took 1.05 seconds to load)\n",
    "1 example, 1 failure\n",
    "\n",
    "Failed examples:\n",
    "\n",
    "rspec ./spec/features/visitor_open_homepage_spec.rb:6 # Visitors should get a home page success\n",
    "```\n",
    "\n",
    "### Implementing feature\n",
    "\n",
    "1. We first need to create a `root_route` in ./config/routes.rb "
   ]
  },
  {
   "cell_type": "code",
   "execution_count": null,
   "metadata": {},
   "outputs": [],
   "source": [
    "Rails.application.routes.draw do\n",
    "  # For details on the DSL available within this file, see https://guides.rubyonrails.org/routing.html\n",
    "  root 'home#index'\n",
    "end"
   ]
  },
  {
   "cell_type": "markdown",
   "metadata": {},
   "source": [
    "2. We then create a controller called `HomeController` with an action called `index`:\n",
    "\n",
    "```bash\n",
    "$ touch ./app/controllers/home_controller.rb\n",
    "```\n",
    "\n",
    "    or\n",
    "    \n",
    "```bash\n",
    "$ bundle exec rails generate controller home\n",
    "```\n",
    "\n",
    "and fill it with:"
   ]
  },
  {
   "cell_type": "code",
   "execution_count": null,
   "metadata": {},
   "outputs": [],
   "source": [
    "# frozen_string_literal: true\n",
    "\n",
    "class HomeController < ApplicationController\n",
    "  def index; end\n",
    "end\n"
   ]
  },
  {
   "cell_type": "markdown",
   "metadata": {},
   "source": [
    "3. We then generate a view file called `index` for the controller's action:\n",
    "\n",
    "```bash\n",
    "$ touch ./app/views/home/index.html.erb\n",
    "```\n",
    "\n",
    "and fill it with the html being tested:"
   ]
  },
  {
   "cell_type": "code",
   "execution_count": null,
   "metadata": {},
   "outputs": [],
   "source": [
    "<header>\n",
    "  <h1>Rental Cars</h1>\n",
    "  <p>Bem vindo ao sistema de gestão de locação</p>\n",
    "</header>\n"
   ]
  },
  {
   "cell_type": "markdown",
   "metadata": {},
   "source": [
    "4. Running rspec, the test should now pass:\n",
    "\n",
    "```bash\n",
    "$ bundle exec rspec\n",
    ".\n",
    "\n",
    "Finished in 3.1 seconds (files took 0.6506 seconds to load)\n",
    "1 example, 0 failures\n",
    "```\n",
    "\n",
    "5. We can now start a dev server and visit our new homepage on http://localhost:3000\n",
    "\n",
    "```bash\n",
    "$ bundle exec rails server\n",
    "```\n",
    "\n",
    "![View for `home#index`](img/root_page.png)"
   ]
  }
 ],
 "metadata": {
  "kernelspec": {
   "display_name": "Ruby 2.6.5",
   "language": "ruby",
   "name": "ruby"
  },
  "language_info": {
   "file_extension": ".rb",
   "mimetype": "application/x-ruby",
   "name": "ruby",
   "version": "2.6.5"
  }
 },
 "nbformat": 4,
 "nbformat_minor": 4
}
