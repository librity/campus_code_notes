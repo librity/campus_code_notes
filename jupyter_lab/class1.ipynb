{
 "cells": [
  {
   "cell_type": "markdown",
   "metadata": {},
   "source": [
    "# First class of [Treinadev](https://treinadev.com.br/)\n",
    "\n",
    "### Resources:\n",
    "- https://rubyonrails.org/\n",
    "- https://guides.rubyonrails.org/\n",
    "- https://github.com/rails/rails\n",
    "- https://stackoverflow.com/questions/tagged/ruby-on-rails\n",
    "- https://www.gurusp.org/\n",
    "- https://trello.com/\n",
    "\n",
    "## Setup\n",
    "\n",
    "1. Install a Ruby Version manager (rbenv or rvm)\n",
    "    - https://github.com/rbenv/rbenv\n",
    "    - https://rvm.io/\n",
    "2. Install Rails\n",
    "\n",
    "```bash\n",
    "$ gem install rails\n",
    "```\n",
    "\n",
    "3. Create a new project\n",
    "\n",
    "```bash\n",
    "$ rails new <project_name>\n",
    "$ cd <project_name>\n",
    "```\n",
    "\n",
    "4. Add capybara and rspec-rails to your Gemfile\n",
    "    - https://rubygems.org/gems/capybara\n",
    "    - https://github.com/rspec/rspec-rails/\n",
    "\n",
    "and install them:\n",
    "\n",
    "```bash\n",
    "$ bundle install\n",
    "$ bundle exec rails generate rspec:install\n",
    "```\n",
    "\n",
    "5. Run RSPEC\n",
    "\n",
    "```bash\n",
    "$ bundle exec rspec\n",
    "```\n",
    "\n",
    "6. Start your rails development server\n",
    "\n",
    "```bash\n",
    "$ bundle exec rails server\n",
    "```"
   ]
  },
  {
   "cell_type": "code",
   "execution_count": 9,
   "metadata": {},
   "outputs": [
    {
     "name": "stdout",
     "output_type": "stream",
     "text": [
      "1, 2, 3, 4, 5, 6, 7, 8, 9, 10, Ruby Kernel Working.\n"
     ]
    }
   ],
   "source": [
    "a = (1..10).to_a\n",
    "a.each do |num|\n",
    "    print \"#{num}, \"\n",
    "end;nil\n",
    "puts \"Ruby Kernel Working\""
   ]
  }
 ],
 "metadata": {
  "kernelspec": {
   "display_name": "Ruby 2.6.5",
   "language": "ruby",
   "name": "ruby"
  },
  "language_info": {
   "file_extension": ".rb",
   "mimetype": "application/x-ruby",
   "name": "ruby",
   "version": "2.6.5"
  }
 },
 "nbformat": 4,
 "nbformat_minor": 4
}
